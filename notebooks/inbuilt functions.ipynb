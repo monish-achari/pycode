{
 "cells": [
  {
   "cell_type": "code",
   "execution_count": 1,
   "id": "coastal-station",
   "metadata": {},
   "outputs": [],
   "source": [
    "# python inbuilt functions"
   ]
  },
  {
   "cell_type": "code",
   "execution_count": 5,
   "id": "simple-metabolism",
   "metadata": {},
   "outputs": [],
   "source": [
    "# lambda is anonymous(no def, no return, and single line expression, and any no. of arrgs) \n",
    "#function and single line function written in python"
   ]
  },
  {
   "cell_type": "code",
   "execution_count": 6,
   "id": "preceding-helmet",
   "metadata": {},
   "outputs": [],
   "source": [
    "# sytanx for lambda function is \n",
    "#function_name=lambda args,arg1:expression(args+arg1)"
   ]
  },
  {
   "cell_type": "code",
   "execution_count": 7,
   "id": "uniform-egypt",
   "metadata": {},
   "outputs": [],
   "source": [
    "addds = lambda a,b,c:a+b+c"
   ]
  },
  {
   "cell_type": "code",
   "execution_count": 9,
   "id": "christian-karen",
   "metadata": {},
   "outputs": [
    {
     "data": {
      "text/plain": [
       "6"
      ]
     },
     "execution_count": 9,
     "metadata": {},
     "output_type": "execute_result"
    }
   ],
   "source": [
    "addds(1,2,3)"
   ]
  },
  {
   "cell_type": "code",
   "execution_count": 10,
   "id": "quantitative-truth",
   "metadata": {},
   "outputs": [],
   "source": [
    "# map function is python"
   ]
  },
  {
   "cell_type": "code",
   "execution_count": 11,
   "id": "possible-hello",
   "metadata": {},
   "outputs": [],
   "source": [
    "# map is maps to each iter item in iterable with function args"
   ]
  },
  {
   "cell_type": "code",
   "execution_count": 18,
   "id": "streaming-cardiff",
   "metadata": {},
   "outputs": [],
   "source": [
    "# here func args are passed in lists and retuns map object can be passed to list or set\n",
    "# few examples "
   ]
  },
  {
   "cell_type": "code",
   "execution_count": 19,
   "id": "suffering-zoning",
   "metadata": {},
   "outputs": [],
   "source": [
    "# syntax for map\n",
    "# map(function,iterables)\n",
    "# return map object(which is iterable)"
   ]
  },
  {
   "cell_type": "code",
   "execution_count": 13,
   "id": "partial-arkansas",
   "metadata": {},
   "outputs": [],
   "source": [
    "add2 = lambda a,b:a+b"
   ]
  },
  {
   "cell_type": "code",
   "execution_count": 14,
   "id": "painted-cloud",
   "metadata": {},
   "outputs": [],
   "source": [
    "add3 = lambda a,b,c:a+b+c"
   ]
  },
  {
   "cell_type": "code",
   "execution_count": 15,
   "id": "noble-bikini",
   "metadata": {},
   "outputs": [
    {
     "data": {
      "text/plain": [
       "[2, 4]"
      ]
     },
     "execution_count": 15,
     "metadata": {},
     "output_type": "execute_result"
    }
   ],
   "source": [
    "list(map(add2,[1,2],[1,2]))"
   ]
  },
  {
   "cell_type": "code",
   "execution_count": 17,
   "id": "working-thermal",
   "metadata": {},
   "outputs": [
    {
     "data": {
      "text/plain": [
       "[3, 6, 8]"
      ]
     },
     "execution_count": 17,
     "metadata": {},
     "output_type": "execute_result"
    }
   ],
   "source": [
    "list(map(add3,[1,2,3,4],[1,2,2],[1,2,3,4]))\n",
    "# will result in less numbered list data is considered"
   ]
  },
  {
   "cell_type": "code",
   "execution_count": null,
   "id": "hourly-forestry",
   "metadata": {},
   "outputs": [],
   "source": []
  },
  {
   "cell_type": "code",
   "execution_count": 20,
   "id": "anonymous-vocabulary",
   "metadata": {},
   "outputs": [],
   "source": [
    "# filter in python \n",
    "# returns a filter object list to get with True conditioned in function "
   ]
  },
  {
   "cell_type": "code",
   "execution_count": 22,
   "id": "convertible-destiny",
   "metadata": {},
   "outputs": [],
   "source": [
    "# syntax for filter\n",
    "# filter(func,iterables) \n",
    "# return a filter object of conditioned in the func\n",
    "# filter can be applicable to single list of iterables not multiples"
   ]
  },
  {
   "cell_type": "code",
   "execution_count": 47,
   "id": "medieval-failure",
   "metadata": {},
   "outputs": [],
   "source": [
    "def sq(p):\n",
    "    return p % 2"
   ]
  },
  {
   "cell_type": "code",
   "execution_count": 48,
   "id": "golden-malta",
   "metadata": {},
   "outputs": [
    {
     "data": {
      "text/plain": [
       "[1, 3]"
      ]
     },
     "execution_count": 48,
     "metadata": {},
     "output_type": "execute_result"
    }
   ],
   "source": [
    "list(filter(sq,[1,2,3]))"
   ]
  },
  {
   "cell_type": "code",
   "execution_count": null,
   "id": "boxed-table",
   "metadata": {},
   "outputs": [],
   "source": []
  },
  {
   "cell_type": "code",
   "execution_count": 49,
   "id": "sustained-tribute",
   "metadata": {},
   "outputs": [],
   "source": [
    "# reduce in python takes single iterables and passes each and returns single value from functin\n",
    "# and return a single value\n",
    "#syntax reduce(func,iterable)"
   ]
  },
  {
   "cell_type": "code",
   "execution_count": 50,
   "id": "conventional-recording",
   "metadata": {},
   "outputs": [],
   "source": [
    "from functools import reduce"
   ]
  },
  {
   "cell_type": "code",
   "execution_count": 62,
   "id": "extensive-skating",
   "metadata": {},
   "outputs": [
    {
     "data": {
      "text/plain": [
       "24"
      ]
     },
     "execution_count": 62,
     "metadata": {},
     "output_type": "execute_result"
    }
   ],
   "source": [
    "y = 0\n",
    "# reduce(lambda x,z:x+y+z,[1,2,3,4,2,2])\n",
    "\n",
    "def tt(a,b):\n",
    "    return a*b\n",
    "\n",
    "reduce(tt,[1,2,3,4])"
   ]
  },
  {
   "cell_type": "code",
   "execution_count": 56,
   "id": "saving-plain",
   "metadata": {},
   "outputs": [],
   "source": [
    "aa = lambda x,y,z:x+y"
   ]
  },
  {
   "cell_type": "code",
   "execution_count": 57,
   "id": "ranking-rebate",
   "metadata": {},
   "outputs": [
    {
     "data": {
      "text/plain": [
       "3"
      ]
     },
     "execution_count": 57,
     "metadata": {},
     "output_type": "execute_result"
    }
   ],
   "source": [
    "aa(1,2,3)"
   ]
  },
  {
   "cell_type": "code",
   "execution_count": null,
   "id": "nasty-fashion",
   "metadata": {},
   "outputs": [],
   "source": [
    "d"
   ]
  }
 ],
 "metadata": {
  "kernelspec": {
   "display_name": "Python 3 (ipykernel)",
   "language": "python",
   "name": "python3"
  },
  "language_info": {
   "codemirror_mode": {
    "name": "ipython",
    "version": 3
   },
   "file_extension": ".py",
   "mimetype": "text/x-python",
   "name": "python",
   "nbconvert_exporter": "python",
   "pygments_lexer": "ipython3",
   "version": "3.9.2"
  }
 },
 "nbformat": 4,
 "nbformat_minor": 5
}
