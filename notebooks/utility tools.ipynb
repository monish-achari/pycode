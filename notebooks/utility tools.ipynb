{
 "cells": [
  {
   "cell_type": "code",
   "execution_count": 2,
   "id": "irish-scientist",
   "metadata": {},
   "outputs": [],
   "source": [
    "# itertools, functools, and collection and other used tools"
   ]
  },
  {
   "cell_type": "code",
   "execution_count": 3,
   "id": "worth-bloom",
   "metadata": {},
   "outputs": [],
   "source": [
    "# itertools"
   ]
  },
  {
   "cell_type": "code",
   "execution_count": 4,
   "id": "minimal-creation",
   "metadata": {},
   "outputs": [],
   "source": [
    "from pyspark.util import itertools"
   ]
  },
  {
   "cell_type": "code",
   "execution_count": 5,
   "id": "detailed-cycling",
   "metadata": {},
   "outputs": [
    {
     "name": "stdout",
     "output_type": "stream",
     "text": [
      "['__doc__', '__loader__', '__name__', '__package__', '__spec__', '_grouper', '_tee', '_tee_dataobject', 'accumulate', 'chain', 'combinations', 'combinations_with_replacement', 'compress', 'count', 'cycle', 'dropwhile', 'filterfalse', 'groupby', 'islice', 'permutations', 'product', 'repeat', 'starmap', 'takewhile', 'tee', 'zip_longest']\n"
     ]
    }
   ],
   "source": [
    "print(dir(itertools))"
   ]
  },
  {
   "cell_type": "code",
   "execution_count": 6,
   "id": "little-intellectual",
   "metadata": {},
   "outputs": [
    {
     "data": {
      "text/plain": [
       "'\\n    It will take longest data list and prints value with other list and remaining data will print as None\\n'"
      ]
     },
     "execution_count": 6,
     "metadata": {},
     "output_type": "execute_result"
    }
   ],
   "source": [
    "# itertools.zip_longest\n",
    "\"\"\"\n",
    "    It will take longest data list and prints value with other list and remaining data will print as None\n",
    "\"\"\""
   ]
  },
  {
   "cell_type": "code",
   "execution_count": 7,
   "id": "amazing-czech",
   "metadata": {},
   "outputs": [],
   "source": [
    "data = [100,200,300,400,500]"
   ]
  },
  {
   "cell_type": "code",
   "execution_count": 8,
   "id": "local-unemployment",
   "metadata": {},
   "outputs": [
    {
     "data": {
      "text/plain": [
       "[(100, 0),\n",
       " (200, 1),\n",
       " (300, 2),\n",
       " (400, 3),\n",
       " (500, 4),\n",
       " (None, 5),\n",
       " (None, 6),\n",
       " (None, 7),\n",
       " (None, 8),\n",
       " (None, 9)]"
      ]
     },
     "execution_count": 8,
     "metadata": {},
     "output_type": "execute_result"
    }
   ],
   "source": [
    "list(itertools.zip_longest(data,range(10)))"
   ]
  },
  {
   "cell_type": "code",
   "execution_count": 9,
   "id": "structural-intervention",
   "metadata": {},
   "outputs": [
    {
     "data": {
      "text/plain": [
       "[(0, 100),\n",
       " (1, 200),\n",
       " (2, 300),\n",
       " (3, 400),\n",
       " (4, 500),\n",
       " (5, None),\n",
       " (6, None),\n",
       " (7, None),\n",
       " (8, None),\n",
       " (9, None)]"
      ]
     },
     "execution_count": 9,
     "metadata": {},
     "output_type": "execute_result"
    }
   ],
   "source": [
    "list(itertools.zip_longest(range(10),data))"
   ]
  },
  {
   "cell_type": "code",
   "execution_count": 10,
   "id": "moderate-garden",
   "metadata": {},
   "outputs": [
    {
     "data": {
      "text/plain": [
       "'\\n    cycle back through again the same list of data simple but lot of usefull\\n    never run in for/while loop as true \\n'"
      ]
     },
     "execution_count": 10,
     "metadata": {},
     "output_type": "execute_result"
    }
   ],
   "source": [
    "# itertools.cycle\n",
    "\"\"\"\n",
    "    cycle back through again the same list of data simple but lot of usefull\n",
    "    never run in for/while loop as true \n",
    "\"\"\""
   ]
  },
  {
   "cell_type": "code",
   "execution_count": 11,
   "id": "closing-rebel",
   "metadata": {},
   "outputs": [
    {
     "data": {
      "text/plain": [
       "[100, 200, 300, 400, 500]"
      ]
     },
     "execution_count": 11,
     "metadata": {},
     "output_type": "execute_result"
    }
   ],
   "source": [
    "data"
   ]
  },
  {
   "cell_type": "code",
   "execution_count": 20,
   "id": "neural-savannah",
   "metadata": {},
   "outputs": [
    {
     "name": "stdout",
     "output_type": "stream",
     "text": [
      "100\n",
      "200\n",
      "300\n",
      "400\n",
      "500\n",
      "100\n",
      "200\n"
     ]
    }
   ],
   "source": [
    "cycle = itertools.cycle(data)\n",
    "\n",
    "print(next(cycle))\n",
    "print(next(cycle))\n",
    "print(next(cycle))\n",
    "print(next(cycle))\n",
    "print(next(cycle))\n",
    "print(next(cycle))\n",
    "print(next(cycle))"
   ]
  },
  {
   "cell_type": "code",
   "execution_count": 22,
   "id": "extreme-agriculture",
   "metadata": {},
   "outputs": [
    {
     "data": {
      "text/plain": [
       "[0, 1, 4, 9, 16, 25, 36, 49, 64, 81]"
      ]
     },
     "execution_count": 22,
     "metadata": {},
     "output_type": "execute_result"
    }
   ],
   "source": [
    "list(map(pow,range(10),itertools.cycle([2])))"
   ]
  },
  {
   "cell_type": "code",
   "execution_count": null,
   "id": "developmental-dealing",
   "metadata": {},
   "outputs": [],
   "source": []
  },
  {
   "cell_type": "code",
   "execution_count": 23,
   "id": "marked-child",
   "metadata": {},
   "outputs": [],
   "source": [
    "# itertools.repeat(value,times=3)"
   ]
  },
  {
   "cell_type": "code",
   "execution_count": 24,
   "id": "appointed-residence",
   "metadata": {},
   "outputs": [
    {
     "data": {
      "text/plain": [
       "[100, 200, 300, 400, 500]"
      ]
     },
     "execution_count": 24,
     "metadata": {},
     "output_type": "execute_result"
    }
   ],
   "source": [
    "data"
   ]
  },
  {
   "cell_type": "code",
   "execution_count": 27,
   "id": "sorted-breathing",
   "metadata": {},
   "outputs": [
    {
     "data": {
      "text/plain": [
       "[0, 1, 4, 9, 16]"
      ]
     },
     "execution_count": 27,
     "metadata": {},
     "output_type": "execute_result"
    }
   ],
   "source": [
    "list(map(pow,range(10),itertools.repeat(2,times=5)))\n",
    "# prints 5 times looping values with pow as value pow 2 = [0, 1, 4, 9, 16]"
   ]
  },
  {
   "cell_type": "code",
   "execution_count": null,
   "id": "blind-seminar",
   "metadata": {},
   "outputs": [],
   "source": []
  },
  {
   "cell_type": "code",
   "execution_count": 28,
   "id": "seven-patio",
   "metadata": {},
   "outputs": [],
   "source": [
    "# itertools.startmap \n",
    "# works as map but takes list of tuple as args"
   ]
  },
  {
   "cell_type": "code",
   "execution_count": 52,
   "id": "subject-creature",
   "metadata": {},
   "outputs": [
    {
     "ename": "TypeError",
     "evalue": "'int' object is not iterable",
     "output_type": "error",
     "traceback": [
      "\u001b[0;31m---------------------------------------------------------------------------\u001b[0m",
      "\u001b[0;31mTypeError\u001b[0m                                 Traceback (most recent call last)",
      "\u001b[0;32m/tmp/ipykernel_78705/3534123800.py\u001b[0m in \u001b[0;36m<module>\u001b[0;34m\u001b[0m\n\u001b[1;32m      4\u001b[0m \u001b[0;34m\u001b[0m\u001b[0m\n\u001b[1;32m      5\u001b[0m \u001b[0mlist\u001b[0m\u001b[0;34m(\u001b[0m\u001b[0mmap\u001b[0m\u001b[0;34m(\u001b[0m\u001b[0madds\u001b[0m\u001b[0;34m,\u001b[0m\u001b[0mdata\u001b[0m\u001b[0;34m,\u001b[0m\u001b[0mdata\u001b[0m\u001b[0;34m)\u001b[0m\u001b[0;34m)\u001b[0m\u001b[0;34m\u001b[0m\u001b[0;34m\u001b[0m\u001b[0m\n\u001b[0;32m----> 6\u001b[0;31m \u001b[0mlist\u001b[0m\u001b[0;34m(\u001b[0m\u001b[0mfilter\u001b[0m\u001b[0;34m(\u001b[0m\u001b[0msum\u001b[0m\u001b[0;34m,\u001b[0m\u001b[0mdata\u001b[0m\u001b[0;34m)\u001b[0m\u001b[0;34m)\u001b[0m\u001b[0;34m\u001b[0m\u001b[0;34m\u001b[0m\u001b[0m\n\u001b[0m",
      "\u001b[0;31mTypeError\u001b[0m: 'int' object is not iterable"
     ]
    }
   ],
   "source": [
    "def adds(a,b):\n",
    "    return a+b\n",
    "\n",
    "\n",
    "list(map(adds,data,data))\n",
    "list(filter(,data))\n"
   ]
  },
  {
   "cell_type": "code",
   "execution_count": 49,
   "id": "canadian-choir",
   "metadata": {},
   "outputs": [
    {
     "data": {
      "text/plain": [
       "[100, 200, 300, 400, 500]"
      ]
     },
     "execution_count": 49,
     "metadata": {},
     "output_type": "execute_result"
    }
   ],
   "source": [
    "data"
   ]
  },
  {
   "cell_type": "code",
   "execution_count": null,
   "id": "rotary-experiment",
   "metadata": {},
   "outputs": [],
   "source": []
  }
 ],
 "metadata": {
  "kernelspec": {
   "display_name": "Python 3 (ipykernel)",
   "language": "python",
   "name": "python3"
  },
  "language_info": {
   "codemirror_mode": {
    "name": "ipython",
    "version": 3
   },
   "file_extension": ".py",
   "mimetype": "text/x-python",
   "name": "python",
   "nbconvert_exporter": "python",
   "pygments_lexer": "ipython3",
   "version": "3.9.2"
  }
 },
 "nbformat": 4,
 "nbformat_minor": 5
}
